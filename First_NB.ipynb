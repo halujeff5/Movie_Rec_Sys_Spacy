{
 "cells": [
  {
   "cell_type": "code",
   "execution_count": 1,
   "id": "aea8f9eb-08a9-44aa-86a3-52e196f59950",
   "metadata": {},
   "outputs": [],
   "source": [
    "import pandas as pd\n",
    "import numpy as np\n",
    "import seaborn as sns"
   ]
  },
  {
   "cell_type": "code",
   "execution_count": 16,
   "id": "6c91678c-9881-49c7-a40e-c26c0b8e2bb9",
   "metadata": {},
   "outputs": [],
   "source": [
    "# !spacy download en_core_web_lg"
   ]
  },
  {
   "cell_type": "code",
   "execution_count": 17,
   "id": "def95c51-8e4f-492d-a6d9-c5fc9e26cbce",
   "metadata": {},
   "outputs": [],
   "source": [
    "# !pip install tweet-preprocessor"
   ]
  },
  {
   "cell_type": "code",
   "execution_count": 2,
   "id": "ab02dbf6-f8a7-4094-9797-87643c10e0c0",
   "metadata": {},
   "outputs": [],
   "source": [
    "df=pd.read_csv('~/Downloads/archive (3)/links.csv')"
   ]
  },
  {
   "cell_type": "code",
   "execution_count": 3,
   "id": "bc8e58cc-131f-464d-bd4b-3edcdf04725d",
   "metadata": {},
   "outputs": [],
   "source": [
    "df1=pd.read_csv('~/Downloads/archive (3)/movies.csv')"
   ]
  },
  {
   "cell_type": "code",
   "execution_count": 4,
   "id": "8d5cdfee-5ab8-46f6-a691-66f11a2e018b",
   "metadata": {},
   "outputs": [],
   "source": [
    "df2=pd.read_csv('~/Downloads/archive (3)/ratings.csv')"
   ]
  },
  {
   "cell_type": "code",
   "execution_count": 5,
   "id": "086eb21b-a481-40ad-86e0-841e0f4549ee",
   "metadata": {},
   "outputs": [],
   "source": [
    "df3=pd.read_csv('~/Downloads/archive (3)/tags.csv')"
   ]
  },
  {
   "cell_type": "code",
   "execution_count": 6,
   "id": "80bf0fcd-77ed-4316-a34d-92336ab19ea2",
   "metadata": {},
   "outputs": [
    {
     "data": {
      "text/html": [
       "<div>\n",
       "<style scoped>\n",
       "    .dataframe tbody tr th:only-of-type {\n",
       "        vertical-align: middle;\n",
       "    }\n",
       "\n",
       "    .dataframe tbody tr th {\n",
       "        vertical-align: top;\n",
       "    }\n",
       "\n",
       "    .dataframe thead th {\n",
       "        text-align: right;\n",
       "    }\n",
       "</style>\n",
       "<table border=\"1\" class=\"dataframe\">\n",
       "  <thead>\n",
       "    <tr style=\"text-align: right;\">\n",
       "      <th></th>\n",
       "      <th>movieId</th>\n",
       "      <th>imdbId</th>\n",
       "      <th>tmdbId</th>\n",
       "    </tr>\n",
       "  </thead>\n",
       "  <tbody>\n",
       "    <tr>\n",
       "      <th>0</th>\n",
       "      <td>1</td>\n",
       "      <td>114709</td>\n",
       "      <td>862.0</td>\n",
       "    </tr>\n",
       "    <tr>\n",
       "      <th>1</th>\n",
       "      <td>2</td>\n",
       "      <td>113497</td>\n",
       "      <td>8844.0</td>\n",
       "    </tr>\n",
       "    <tr>\n",
       "      <th>2</th>\n",
       "      <td>3</td>\n",
       "      <td>113228</td>\n",
       "      <td>15602.0</td>\n",
       "    </tr>\n",
       "    <tr>\n",
       "      <th>3</th>\n",
       "      <td>4</td>\n",
       "      <td>114885</td>\n",
       "      <td>31357.0</td>\n",
       "    </tr>\n",
       "    <tr>\n",
       "      <th>4</th>\n",
       "      <td>5</td>\n",
       "      <td>113041</td>\n",
       "      <td>11862.0</td>\n",
       "    </tr>\n",
       "  </tbody>\n",
       "</table>\n",
       "</div>"
      ],
      "text/plain": [
       "   movieId  imdbId   tmdbId\n",
       "0        1  114709    862.0\n",
       "1        2  113497   8844.0\n",
       "2        3  113228  15602.0\n",
       "3        4  114885  31357.0\n",
       "4        5  113041  11862.0"
      ]
     },
     "execution_count": 6,
     "metadata": {},
     "output_type": "execute_result"
    }
   ],
   "source": [
    "df.head()"
   ]
  },
  {
   "cell_type": "code",
   "execution_count": 7,
   "id": "e90ed287-da78-497c-af57-85e94f362509",
   "metadata": {},
   "outputs": [
    {
     "data": {
      "text/html": [
       "<div>\n",
       "<style scoped>\n",
       "    .dataframe tbody tr th:only-of-type {\n",
       "        vertical-align: middle;\n",
       "    }\n",
       "\n",
       "    .dataframe tbody tr th {\n",
       "        vertical-align: top;\n",
       "    }\n",
       "\n",
       "    .dataframe thead th {\n",
       "        text-align: right;\n",
       "    }\n",
       "</style>\n",
       "<table border=\"1\" class=\"dataframe\">\n",
       "  <thead>\n",
       "    <tr style=\"text-align: right;\">\n",
       "      <th></th>\n",
       "      <th>movieId</th>\n",
       "      <th>title</th>\n",
       "      <th>genres</th>\n",
       "    </tr>\n",
       "  </thead>\n",
       "  <tbody>\n",
       "    <tr>\n",
       "      <th>0</th>\n",
       "      <td>1</td>\n",
       "      <td>Toy Story (1995)</td>\n",
       "      <td>Adventure|Animation|Children|Comedy|Fantasy</td>\n",
       "    </tr>\n",
       "    <tr>\n",
       "      <th>1</th>\n",
       "      <td>2</td>\n",
       "      <td>Jumanji (1995)</td>\n",
       "      <td>Adventure|Children|Fantasy</td>\n",
       "    </tr>\n",
       "    <tr>\n",
       "      <th>2</th>\n",
       "      <td>3</td>\n",
       "      <td>Grumpier Old Men (1995)</td>\n",
       "      <td>Comedy|Romance</td>\n",
       "    </tr>\n",
       "    <tr>\n",
       "      <th>3</th>\n",
       "      <td>4</td>\n",
       "      <td>Waiting to Exhale (1995)</td>\n",
       "      <td>Comedy|Drama|Romance</td>\n",
       "    </tr>\n",
       "    <tr>\n",
       "      <th>4</th>\n",
       "      <td>5</td>\n",
       "      <td>Father of the Bride Part II (1995)</td>\n",
       "      <td>Comedy</td>\n",
       "    </tr>\n",
       "  </tbody>\n",
       "</table>\n",
       "</div>"
      ],
      "text/plain": [
       "   movieId                               title  \\\n",
       "0        1                    Toy Story (1995)   \n",
       "1        2                      Jumanji (1995)   \n",
       "2        3             Grumpier Old Men (1995)   \n",
       "3        4            Waiting to Exhale (1995)   \n",
       "4        5  Father of the Bride Part II (1995)   \n",
       "\n",
       "                                        genres  \n",
       "0  Adventure|Animation|Children|Comedy|Fantasy  \n",
       "1                   Adventure|Children|Fantasy  \n",
       "2                               Comedy|Romance  \n",
       "3                         Comedy|Drama|Romance  \n",
       "4                                       Comedy  "
      ]
     },
     "execution_count": 7,
     "metadata": {},
     "output_type": "execute_result"
    }
   ],
   "source": [
    "df1.head()"
   ]
  },
  {
   "cell_type": "code",
   "execution_count": 8,
   "id": "0334f74e-1079-4bb3-a355-d15b38a11521",
   "metadata": {},
   "outputs": [
    {
     "data": {
      "text/html": [
       "<div>\n",
       "<style scoped>\n",
       "    .dataframe tbody tr th:only-of-type {\n",
       "        vertical-align: middle;\n",
       "    }\n",
       "\n",
       "    .dataframe tbody tr th {\n",
       "        vertical-align: top;\n",
       "    }\n",
       "\n",
       "    .dataframe thead th {\n",
       "        text-align: right;\n",
       "    }\n",
       "</style>\n",
       "<table border=\"1\" class=\"dataframe\">\n",
       "  <thead>\n",
       "    <tr style=\"text-align: right;\">\n",
       "      <th></th>\n",
       "      <th>userId</th>\n",
       "      <th>movieId</th>\n",
       "      <th>rating</th>\n",
       "      <th>timestamp</th>\n",
       "    </tr>\n",
       "  </thead>\n",
       "  <tbody>\n",
       "    <tr>\n",
       "      <th>0</th>\n",
       "      <td>1</td>\n",
       "      <td>169</td>\n",
       "      <td>2.5</td>\n",
       "      <td>1204927694</td>\n",
       "    </tr>\n",
       "    <tr>\n",
       "      <th>1</th>\n",
       "      <td>1</td>\n",
       "      <td>2471</td>\n",
       "      <td>3.0</td>\n",
       "      <td>1204927438</td>\n",
       "    </tr>\n",
       "    <tr>\n",
       "      <th>2</th>\n",
       "      <td>1</td>\n",
       "      <td>48516</td>\n",
       "      <td>5.0</td>\n",
       "      <td>1204927435</td>\n",
       "    </tr>\n",
       "    <tr>\n",
       "      <th>3</th>\n",
       "      <td>2</td>\n",
       "      <td>2571</td>\n",
       "      <td>3.5</td>\n",
       "      <td>1436165433</td>\n",
       "    </tr>\n",
       "    <tr>\n",
       "      <th>4</th>\n",
       "      <td>2</td>\n",
       "      <td>109487</td>\n",
       "      <td>4.0</td>\n",
       "      <td>1436165496</td>\n",
       "    </tr>\n",
       "  </tbody>\n",
       "</table>\n",
       "</div>"
      ],
      "text/plain": [
       "   userId  movieId  rating   timestamp\n",
       "0       1      169     2.5  1204927694\n",
       "1       1     2471     3.0  1204927438\n",
       "2       1    48516     5.0  1204927435\n",
       "3       2     2571     3.5  1436165433\n",
       "4       2   109487     4.0  1436165496"
      ]
     },
     "execution_count": 8,
     "metadata": {},
     "output_type": "execute_result"
    }
   ],
   "source": [
    "df2.head()"
   ]
  },
  {
   "cell_type": "code",
   "execution_count": 9,
   "id": "77125b59-f5bb-44b1-9f74-c62681658a88",
   "metadata": {},
   "outputs": [
    {
     "data": {
      "text/html": [
       "<div>\n",
       "<style scoped>\n",
       "    .dataframe tbody tr th:only-of-type {\n",
       "        vertical-align: middle;\n",
       "    }\n",
       "\n",
       "    .dataframe tbody tr th {\n",
       "        vertical-align: top;\n",
       "    }\n",
       "\n",
       "    .dataframe thead th {\n",
       "        text-align: right;\n",
       "    }\n",
       "</style>\n",
       "<table border=\"1\" class=\"dataframe\">\n",
       "  <thead>\n",
       "    <tr style=\"text-align: right;\">\n",
       "      <th></th>\n",
       "      <th>userId</th>\n",
       "      <th>movieId</th>\n",
       "      <th>tag</th>\n",
       "      <th>timestamp</th>\n",
       "    </tr>\n",
       "  </thead>\n",
       "  <tbody>\n",
       "    <tr>\n",
       "      <th>0</th>\n",
       "      <td>19</td>\n",
       "      <td>2324</td>\n",
       "      <td>bittersweet</td>\n",
       "      <td>1428651158</td>\n",
       "    </tr>\n",
       "    <tr>\n",
       "      <th>1</th>\n",
       "      <td>19</td>\n",
       "      <td>2324</td>\n",
       "      <td>holocaust</td>\n",
       "      <td>1428651112</td>\n",
       "    </tr>\n",
       "    <tr>\n",
       "      <th>2</th>\n",
       "      <td>19</td>\n",
       "      <td>2324</td>\n",
       "      <td>World War II</td>\n",
       "      <td>1428651118</td>\n",
       "    </tr>\n",
       "    <tr>\n",
       "      <th>3</th>\n",
       "      <td>23</td>\n",
       "      <td>7075</td>\n",
       "      <td>hilarious</td>\n",
       "      <td>1378675786</td>\n",
       "    </tr>\n",
       "    <tr>\n",
       "      <th>4</th>\n",
       "      <td>23</td>\n",
       "      <td>7075</td>\n",
       "      <td>Underrated</td>\n",
       "      <td>1378675786</td>\n",
       "    </tr>\n",
       "  </tbody>\n",
       "</table>\n",
       "</div>"
      ],
      "text/plain": [
       "   userId  movieId           tag   timestamp\n",
       "0      19     2324   bittersweet  1428651158\n",
       "1      19     2324     holocaust  1428651112\n",
       "2      19     2324  World War II  1428651118\n",
       "3      23     7075     hilarious  1378675786\n",
       "4      23     7075    Underrated  1378675786"
      ]
     },
     "execution_count": 9,
     "metadata": {},
     "output_type": "execute_result"
    }
   ],
   "source": [
    "df3.head()"
   ]
  },
  {
   "cell_type": "code",
   "execution_count": 10,
   "id": "a92531e2-132a-4438-b277-108efaf1882e",
   "metadata": {},
   "outputs": [],
   "source": [
    "import spacy\n",
    "nlp = spacy.load(\"en_core_web_lg\")"
   ]
  },
  {
   "cell_type": "code",
   "execution_count": 11,
   "id": "48e573df-458c-4d59-8b30-65f30dd0cf1e",
   "metadata": {},
   "outputs": [],
   "source": [
    "spacy_tokenizer = nlp.tokenizer"
   ]
  },
  {
   "cell_type": "code",
   "execution_count": 217,
   "id": "e7940849-8de7-4e0d-a4d6-e6f5311aff52",
   "metadata": {},
   "outputs": [],
   "source": [
    "df5= pd.merge(df3, df1, on='movieId', how='inner')"
   ]
  },
  {
   "cell_type": "code",
   "execution_count": 218,
   "id": "3e1fdd17-af1f-4039-852d-049a77daf332",
   "metadata": {},
   "outputs": [
    {
     "data": {
      "text/html": [
       "<div>\n",
       "<style scoped>\n",
       "    .dataframe tbody tr th:only-of-type {\n",
       "        vertical-align: middle;\n",
       "    }\n",
       "\n",
       "    .dataframe tbody tr th {\n",
       "        vertical-align: top;\n",
       "    }\n",
       "\n",
       "    .dataframe thead th {\n",
       "        text-align: right;\n",
       "    }\n",
       "</style>\n",
       "<table border=\"1\" class=\"dataframe\">\n",
       "  <thead>\n",
       "    <tr style=\"text-align: right;\">\n",
       "      <th></th>\n",
       "      <th>userId</th>\n",
       "      <th>movieId</th>\n",
       "      <th>tag</th>\n",
       "      <th>timestamp</th>\n",
       "      <th>title</th>\n",
       "      <th>genres</th>\n",
       "    </tr>\n",
       "  </thead>\n",
       "  <tbody>\n",
       "    <tr>\n",
       "      <th>0</th>\n",
       "      <td>19</td>\n",
       "      <td>2324</td>\n",
       "      <td>bittersweet</td>\n",
       "      <td>1428651158</td>\n",
       "      <td>Life Is Beautiful (La Vita è bella) (1997)</td>\n",
       "      <td>Comedy|Drama|Romance|War</td>\n",
       "    </tr>\n",
       "    <tr>\n",
       "      <th>1</th>\n",
       "      <td>19</td>\n",
       "      <td>2324</td>\n",
       "      <td>holocaust</td>\n",
       "      <td>1428651112</td>\n",
       "      <td>Life Is Beautiful (La Vita è bella) (1997)</td>\n",
       "      <td>Comedy|Drama|Romance|War</td>\n",
       "    </tr>\n",
       "    <tr>\n",
       "      <th>2</th>\n",
       "      <td>19</td>\n",
       "      <td>2324</td>\n",
       "      <td>World War II</td>\n",
       "      <td>1428651118</td>\n",
       "      <td>Life Is Beautiful (La Vita è bella) (1997)</td>\n",
       "      <td>Comedy|Drama|Romance|War</td>\n",
       "    </tr>\n",
       "    <tr>\n",
       "      <th>3</th>\n",
       "      <td>4431</td>\n",
       "      <td>2324</td>\n",
       "      <td>emotional</td>\n",
       "      <td>1416754302</td>\n",
       "      <td>Life Is Beautiful (La Vita è bella) (1997)</td>\n",
       "      <td>Comedy|Drama|Romance|War</td>\n",
       "    </tr>\n",
       "    <tr>\n",
       "      <th>4</th>\n",
       "      <td>4431</td>\n",
       "      <td>2324</td>\n",
       "      <td>father-son relationship</td>\n",
       "      <td>1416754358</td>\n",
       "      <td>Life Is Beautiful (La Vita è bella) (1997)</td>\n",
       "      <td>Comedy|Drama|Romance|War</td>\n",
       "    </tr>\n",
       "    <tr>\n",
       "      <th>...</th>\n",
       "      <td>...</td>\n",
       "      <td>...</td>\n",
       "      <td>...</td>\n",
       "      <td>...</td>\n",
       "      <td>...</td>\n",
       "      <td>...</td>\n",
       "    </tr>\n",
       "    <tr>\n",
       "      <th>586989</th>\n",
       "      <td>247424</td>\n",
       "      <td>5467</td>\n",
       "      <td>Hell</td>\n",
       "      <td>1138054315</td>\n",
       "      <td>Never Again (2001)</td>\n",
       "      <td>Comedy|Romance</td>\n",
       "    </tr>\n",
       "    <tr>\n",
       "      <th>586990</th>\n",
       "      <td>247424</td>\n",
       "      <td>5467</td>\n",
       "      <td>no!</td>\n",
       "      <td>1138054315</td>\n",
       "      <td>Never Again (2001)</td>\n",
       "      <td>Comedy|Romance</td>\n",
       "    </tr>\n",
       "    <tr>\n",
       "      <th>586991</th>\n",
       "      <td>247509</td>\n",
       "      <td>95581</td>\n",
       "      <td>aviation</td>\n",
       "      <td>1434604017</td>\n",
       "      <td>Flying Fleet, The (1929)</td>\n",
       "      <td>Adventure|Drama|Romance</td>\n",
       "    </tr>\n",
       "    <tr>\n",
       "      <th>586992</th>\n",
       "      <td>247509</td>\n",
       "      <td>95581</td>\n",
       "      <td>navy</td>\n",
       "      <td>1434604017</td>\n",
       "      <td>Flying Fleet, The (1929)</td>\n",
       "      <td>Adventure|Drama|Romance</td>\n",
       "    </tr>\n",
       "    <tr>\n",
       "      <th>586993</th>\n",
       "      <td>247509</td>\n",
       "      <td>95581</td>\n",
       "      <td>romance</td>\n",
       "      <td>1434604017</td>\n",
       "      <td>Flying Fleet, The (1929)</td>\n",
       "      <td>Adventure|Drama|Romance</td>\n",
       "    </tr>\n",
       "  </tbody>\n",
       "</table>\n",
       "<p>586994 rows × 6 columns</p>\n",
       "</div>"
      ],
      "text/plain": [
       "        userId  movieId                      tag   timestamp  \\\n",
       "0           19     2324              bittersweet  1428651158   \n",
       "1           19     2324                holocaust  1428651112   \n",
       "2           19     2324             World War II  1428651118   \n",
       "3         4431     2324                emotional  1416754302   \n",
       "4         4431     2324  father-son relationship  1416754358   \n",
       "...        ...      ...                      ...         ...   \n",
       "586989  247424     5467                     Hell  1138054315   \n",
       "586990  247424     5467                      no!  1138054315   \n",
       "586991  247509    95581                 aviation  1434604017   \n",
       "586992  247509    95581                     navy  1434604017   \n",
       "586993  247509    95581                  romance  1434604017   \n",
       "\n",
       "                                             title                    genres  \n",
       "0       Life Is Beautiful (La Vita è bella) (1997)  Comedy|Drama|Romance|War  \n",
       "1       Life Is Beautiful (La Vita è bella) (1997)  Comedy|Drama|Romance|War  \n",
       "2       Life Is Beautiful (La Vita è bella) (1997)  Comedy|Drama|Romance|War  \n",
       "3       Life Is Beautiful (La Vita è bella) (1997)  Comedy|Drama|Romance|War  \n",
       "4       Life Is Beautiful (La Vita è bella) (1997)  Comedy|Drama|Romance|War  \n",
       "...                                            ...                       ...  \n",
       "586989                          Never Again (2001)            Comedy|Romance  \n",
       "586990                          Never Again (2001)            Comedy|Romance  \n",
       "586991                    Flying Fleet, The (1929)   Adventure|Drama|Romance  \n",
       "586992                    Flying Fleet, The (1929)   Adventure|Drama|Romance  \n",
       "586993                    Flying Fleet, The (1929)   Adventure|Drama|Romance  \n",
       "\n",
       "[586994 rows x 6 columns]"
      ]
     },
     "execution_count": 218,
     "metadata": {},
     "output_type": "execute_result"
    }
   ],
   "source": [
    "df5"
   ]
  },
  {
   "cell_type": "code",
   "execution_count": 219,
   "id": "cc9d274f-187b-40d4-ac5f-14b9c35ae609",
   "metadata": {},
   "outputs": [
    {
     "data": {
      "text/plain": [
       "'Hell'"
      ]
     },
     "execution_count": 219,
     "metadata": {},
     "output_type": "execute_result"
    }
   ],
   "source": [
    "list(df5[df5['title']=='Never Again (2001)'].tag)[0]"
   ]
  },
  {
   "cell_type": "code",
   "execution_count": 44,
   "id": "9f4ec051-af11-4fc9-b0cf-97178628f95a",
   "metadata": {},
   "outputs": [
    {
     "name": "stderr",
     "output_type": "stream",
     "text": [
      "100%|██████████████████████████████████| 586994/586994 [22:30<00:00, 434.63it/s]\n"
     ]
    }
   ],
   "source": [
    "# from tqdm import tqdm\n",
    "# tqdm.pandas() \n",
    "# x=[spacy_tokenizer(str(x)) for x in df5.tag]\n",
    "\n",
    "# vectors=[]\n",
    "# for token in tqdm(x):\n",
    "#     vectors.append(nlp(token).vector)\n",
    "    \n"
   ]
  },
  {
   "cell_type": "code",
   "execution_count": 97,
   "id": "a323a169-c265-4121-bfc7-31e3fa36d2b7",
   "metadata": {},
   "outputs": [],
   "source": [
    "# import pickle\n",
    "# with open ('vector.pickle', 'wb') as f:\n",
    "#     pickle.dump(vectors, f, 5)"
   ]
  },
  {
   "cell_type": "code",
   "execution_count": 16,
   "id": "32afb39c-2ad4-411c-9e7d-d04aca345405",
   "metadata": {},
   "outputs": [],
   "source": [
    "import pickle\n",
    "with open('vector.pickle', 'rb') as f:\n",
    "    data=pickle.load(f)"
   ]
  },
  {
   "cell_type": "code",
   "execution_count": null,
   "id": "cb38a37a-8be5-467b-8f83-0275c0425b73",
   "metadata": {},
   "outputs": [],
   "source": []
  },
  {
   "cell_type": "code",
   "execution_count": 220,
   "id": "ae95b3bf-18e2-4ec9-a3d0-906f395cf62a",
   "metadata": {},
   "outputs": [],
   "source": [
    "df4=pd.Series(data)"
   ]
  },
  {
   "cell_type": "code",
   "execution_count": 221,
   "id": "ea43be2c-191b-4fcd-8a1c-c5eb60e9fac7",
   "metadata": {},
   "outputs": [],
   "source": [
    "frames=[df5,df4]\n",
    "df5=pd.concat(frames, axis=1)"
   ]
  },
  {
   "cell_type": "code",
   "execution_count": 222,
   "id": "c2ca4a1c-0f60-4466-b8c6-c49b9b5cde5d",
   "metadata": {},
   "outputs": [],
   "source": [
    "df5.rename(columns={0: 'vec'}, inplace=True)"
   ]
  },
  {
   "cell_type": "code",
   "execution_count": 296,
   "id": "f5bd7ccb-81bf-400a-a62a-086d0edc897a",
   "metadata": {},
   "outputs": [],
   "source": [
    "q= str(df5[df5['title']=='Never Again (2001)'].tag)"
   ]
  },
  {
   "cell_type": "code",
   "execution_count": 339,
   "id": "2d744b25-a6c9-4fe9-9fbd-1d4d5964f629",
   "metadata": {},
   "outputs": [],
   "source": [
    "def prep(x):\n",
    "    z=spacy_tokenizer(x)\n",
    "    z=nlp(z).vector.reshape(300,)\n",
    "    return z\n"
   ]
  },
  {
   "cell_type": "code",
   "execution_count": 377,
   "id": "d9ddd1ef-32e0-487a-90b8-149f0561e383",
   "metadata": {},
   "outputs": [],
   "source": [
    "def prepare(x):\n",
    "    z=spacy_tokenizer(x)\n",
    "    z=nlp(z).vector.reshape(300,)\n",
    "    return z"
   ]
  },
  {
   "cell_type": "code",
   "execution_count": 436,
   "id": "4bf6f6db-b62f-4dfa-833a-e426d30d9da3",
   "metadata": {},
   "outputs": [],
   "source": [
    "q= str(df5[df5['title']=='Never Again (2001)'].tag)\n",
    "def rec_movie():\n",
    "    z=prep(q)\n",
    "    listA=[]\n",
    "    t=[prepare(str(x)) for x in df5.tag.loc[:]]\n",
    "    for i in range(len(t)):\n",
    "        listA.append(np.dot(t[i], z)/(np.linalg.norm(t[i])*np.linalg.norm(z)))\n",
    "    ser= listA\n",
    "    df5.timestamp=ser"
   ]
  },
  {
   "cell_type": "code",
   "execution_count": 437,
   "id": "f42f4be6-3bc2-4b1d-98a4-7580abee3939",
   "metadata": {},
   "outputs": [
    {
     "name": "stderr",
     "output_type": "stream",
     "text": [
      "/var/folders/48/3rfqt3q17zj4zsvn_9rh50br0000gn/T/ipykernel_54515/3482208125.py:7: RuntimeWarning: invalid value encountered in float_scalars\n",
      "  listA.append(np.dot(t[i], z)/(np.linalg.norm(t[i])*np.linalg.norm(z)))\n"
     ]
    }
   ],
   "source": [
    "rec_movie()"
   ]
  },
  {
   "cell_type": "code",
   "execution_count": 447,
   "id": "063ed0cd-a199-4ab3-a8ea-ab7459d60513",
   "metadata": {},
   "outputs": [
    {
     "data": {
      "text/plain": [
       "586757    0.728382\n",
       "586759    0.728052\n",
       "586761    0.728052\n",
       "586760    0.728052\n",
       "586758    0.712822\n",
       "530597    0.690752\n",
       "404344    0.660925\n",
       "Name: timestamp, dtype: float32"
      ]
     },
     "execution_count": 447,
     "metadata": {},
     "output_type": "execute_result"
    }
   ],
   "source": [
    "df5.timestamp.sort_values(ascending=False)[0:7]"
   ]
  },
  {
   "cell_type": "code",
   "execution_count": 448,
   "id": "a0110fbd-f365-44f8-8e2b-10d66b47e571",
   "metadata": {},
   "outputs": [
    {
     "data": {
      "text/plain": [
       "(userId                                                   61431\n",
       " movieId                                                  44511\n",
       " tag          'Lemme Get This Straight. You Have No Idea Who...\n",
       " timestamp                                             0.655933\n",
       " title                                Unknown White Male (2005)\n",
       " genres                                             Documentary\n",
       " vec          [-0.037949346, 0.16567169, -0.24979131, -0.116...\n",
       " Name: 563331, dtype: object,\n",
       "         userId  movieId                    tag  timestamp  \\\n",
       " 586986  247424      167  Last Words connection   0.561513   \n",
       " \n",
       "                        title genres  \\\n",
       " 586986  Feast of July (1995)  Drama   \n",
       " \n",
       "                                                       vec  \n",
       " 586986  [0.35600498, 0.4164, -0.14501333, -0.038696665...  )"
      ]
     },
     "execution_count": 448,
     "metadata": {},
     "output_type": "execute_result"
    }
   ],
   "source": [
    "df5.loc[563331], df5[df5['title']=='Feast of July (1995)']"
   ]
  },
  {
   "cell_type": "code",
   "execution_count": 417,
   "id": "a32a7ed3-410d-401e-a982-43bb3a87b1ef",
   "metadata": {},
   "outputs": [],
   "source": [
    "df5.drop_duplicates(subset='movieId', inplace=True)"
   ]
  },
  {
   "cell_type": "code",
   "execution_count": 230,
   "id": "a24c7478-aead-4697-ac48-da81e202cb23",
   "metadata": {},
   "outputs": [
    {
     "data": {
      "text/plain": [
       "(21654, 7)"
      ]
     },
     "execution_count": 230,
     "metadata": {},
     "output_type": "execute_result"
    }
   ],
   "source": [
    "df5.shape"
   ]
  },
  {
   "cell_type": "code",
   "execution_count": 449,
   "id": "f4a5c762-97f7-446e-9828-e4d35f8203e6",
   "metadata": {},
   "outputs": [
    {
     "data": {
      "text/html": [
       "<div>\n",
       "<style scoped>\n",
       "    .dataframe tbody tr th:only-of-type {\n",
       "        vertical-align: middle;\n",
       "    }\n",
       "\n",
       "    .dataframe tbody tr th {\n",
       "        vertical-align: top;\n",
       "    }\n",
       "\n",
       "    .dataframe thead th {\n",
       "        text-align: right;\n",
       "    }\n",
       "</style>\n",
       "<table border=\"1\" class=\"dataframe\">\n",
       "  <thead>\n",
       "    <tr style=\"text-align: right;\">\n",
       "      <th></th>\n",
       "      <th>userId</th>\n",
       "      <th>movieId</th>\n",
       "      <th>tag</th>\n",
       "      <th>timestamp</th>\n",
       "      <th>title</th>\n",
       "      <th>genres</th>\n",
       "      <th>vec</th>\n",
       "    </tr>\n",
       "  </thead>\n",
       "  <tbody>\n",
       "    <tr>\n",
       "      <th>0</th>\n",
       "      <td>19</td>\n",
       "      <td>2324</td>\n",
       "      <td>bittersweet</td>\n",
       "      <td>0.064956</td>\n",
       "      <td>Life Is Beautiful (La Vita è bella) (1997)</td>\n",
       "      <td>Comedy|Drama|Romance|War</td>\n",
       "      <td>[0.65223, 0.92595, 0.23045, 0.16232, -0.36456,...</td>\n",
       "    </tr>\n",
       "    <tr>\n",
       "      <th>421</th>\n",
       "      <td>23</td>\n",
       "      <td>7075</td>\n",
       "      <td>hilarious</td>\n",
       "      <td>0.283356</td>\n",
       "      <td>Court Jester, The (1956)</td>\n",
       "      <td>Adventure|Comedy|Musical</td>\n",
       "      <td>[-0.65168, -0.12708, -0.096462, -0.13232, -0.4...</td>\n",
       "    </tr>\n",
       "    <tr>\n",
       "      <th>467</th>\n",
       "      <td>54</td>\n",
       "      <td>357</td>\n",
       "      <td>Garath</td>\n",
       "      <td>NaN</td>\n",
       "      <td>Four Weddings and a Funeral (1994)</td>\n",
       "      <td>Comedy|Romance</td>\n",
       "      <td>[0.0, 0.0, 0.0, 0.0, 0.0, 0.0, 0.0, 0.0, 0.0, ...</td>\n",
       "    </tr>\n",
       "    <tr>\n",
       "      <th>605</th>\n",
       "      <td>57</td>\n",
       "      <td>260</td>\n",
       "      <td>Science Fiction</td>\n",
       "      <td>0.324257</td>\n",
       "      <td>Star Wars: Episode IV - A New Hope (1977)</td>\n",
       "      <td>Action|Adventure|Sci-Fi</td>\n",
       "      <td>[-0.30313998, -0.039408498, 0.16473, -0.096814...</td>\n",
       "    </tr>\n",
       "    <tr>\n",
       "      <th>9221</th>\n",
       "      <td>120</td>\n",
       "      <td>109374</td>\n",
       "      <td>cinematography</td>\n",
       "      <td>0.056059</td>\n",
       "      <td>Grand Budapest Hotel, The (2014)</td>\n",
       "      <td>Comedy|Drama</td>\n",
       "      <td>[-0.23285, -0.15892, 0.78638, -0.70825, 0.3790...</td>\n",
       "    </tr>\n",
       "    <tr>\n",
       "      <th>...</th>\n",
       "      <td>...</td>\n",
       "      <td>...</td>\n",
       "      <td>...</td>\n",
       "      <td>...</td>\n",
       "      <td>...</td>\n",
       "      <td>...</td>\n",
       "      <td>...</td>\n",
       "    </tr>\n",
       "    <tr>\n",
       "      <th>586986</th>\n",
       "      <td>247424</td>\n",
       "      <td>167</td>\n",
       "      <td>Last Words connection</td>\n",
       "      <td>0.561513</td>\n",
       "      <td>Feast of July (1995)</td>\n",
       "      <td>Drama</td>\n",
       "      <td>[0.35600498, 0.4164, -0.14501333, -0.038696665...</td>\n",
       "    </tr>\n",
       "    <tr>\n",
       "      <th>586987</th>\n",
       "      <td>247424</td>\n",
       "      <td>2998</td>\n",
       "      <td>Haunting Endings</td>\n",
       "      <td>0.204764</td>\n",
       "      <td>Dreaming of Joseph Lees (1999)</td>\n",
       "      <td>Drama|Romance</td>\n",
       "      <td>[0.0813985, -0.014964998, -0.70358497, -0.1624...</td>\n",
       "    </tr>\n",
       "    <tr>\n",
       "      <th>586988</th>\n",
       "      <td>247424</td>\n",
       "      <td>3540</td>\n",
       "      <td>Last Words connection</td>\n",
       "      <td>0.561513</td>\n",
       "      <td>Passion of Mind (2000)</td>\n",
       "      <td>Drama|Mystery|Romance</td>\n",
       "      <td>[0.35600498, 0.4164, -0.14501333, -0.038696665...</td>\n",
       "    </tr>\n",
       "    <tr>\n",
       "      <th>586989</th>\n",
       "      <td>247424</td>\n",
       "      <td>5467</td>\n",
       "      <td>Hell</td>\n",
       "      <td>0.514120</td>\n",
       "      <td>Never Again (2001)</td>\n",
       "      <td>Comedy|Romance</td>\n",
       "      <td>[-0.48299, -0.16004, -0.037345, -0.48164, 0.00...</td>\n",
       "    </tr>\n",
       "    <tr>\n",
       "      <th>586991</th>\n",
       "      <td>247509</td>\n",
       "      <td>95581</td>\n",
       "      <td>aviation</td>\n",
       "      <td>0.112680</td>\n",
       "      <td>Flying Fleet, The (1929)</td>\n",
       "      <td>Adventure|Drama|Romance</td>\n",
       "      <td>[0.27872, 0.10422, 0.5816, 0.17041, 0.3921, -0...</td>\n",
       "    </tr>\n",
       "  </tbody>\n",
       "</table>\n",
       "<p>21654 rows × 7 columns</p>\n",
       "</div>"
      ],
      "text/plain": [
       "        userId  movieId                    tag  timestamp  \\\n",
       "0           19     2324            bittersweet   0.064956   \n",
       "421         23     7075              hilarious   0.283356   \n",
       "467         54      357                 Garath        NaN   \n",
       "605         57      260        Science Fiction   0.324257   \n",
       "9221       120   109374         cinematography   0.056059   \n",
       "...        ...      ...                    ...        ...   \n",
       "586986  247424      167  Last Words connection   0.561513   \n",
       "586987  247424     2998       Haunting Endings   0.204764   \n",
       "586988  247424     3540  Last Words connection   0.561513   \n",
       "586989  247424     5467                   Hell   0.514120   \n",
       "586991  247509    95581               aviation   0.112680   \n",
       "\n",
       "                                             title                    genres  \\\n",
       "0       Life Is Beautiful (La Vita è bella) (1997)  Comedy|Drama|Romance|War   \n",
       "421                       Court Jester, The (1956)  Adventure|Comedy|Musical   \n",
       "467             Four Weddings and a Funeral (1994)            Comedy|Romance   \n",
       "605      Star Wars: Episode IV - A New Hope (1977)   Action|Adventure|Sci-Fi   \n",
       "9221              Grand Budapest Hotel, The (2014)              Comedy|Drama   \n",
       "...                                            ...                       ...   \n",
       "586986                        Feast of July (1995)                     Drama   \n",
       "586987              Dreaming of Joseph Lees (1999)             Drama|Romance   \n",
       "586988                      Passion of Mind (2000)     Drama|Mystery|Romance   \n",
       "586989                          Never Again (2001)            Comedy|Romance   \n",
       "586991                    Flying Fleet, The (1929)   Adventure|Drama|Romance   \n",
       "\n",
       "                                                      vec  \n",
       "0       [0.65223, 0.92595, 0.23045, 0.16232, -0.36456,...  \n",
       "421     [-0.65168, -0.12708, -0.096462, -0.13232, -0.4...  \n",
       "467     [0.0, 0.0, 0.0, 0.0, 0.0, 0.0, 0.0, 0.0, 0.0, ...  \n",
       "605     [-0.30313998, -0.039408498, 0.16473, -0.096814...  \n",
       "9221    [-0.23285, -0.15892, 0.78638, -0.70825, 0.3790...  \n",
       "...                                                   ...  \n",
       "586986  [0.35600498, 0.4164, -0.14501333, -0.038696665...  \n",
       "586987  [0.0813985, -0.014964998, -0.70358497, -0.1624...  \n",
       "586988  [0.35600498, 0.4164, -0.14501333, -0.038696665...  \n",
       "586989  [-0.48299, -0.16004, -0.037345, -0.48164, 0.00...  \n",
       "586991  [0.27872, 0.10422, 0.5816, 0.17041, 0.3921, -0...  \n",
       "\n",
       "[21654 rows x 7 columns]"
      ]
     },
     "execution_count": 449,
     "metadata": {},
     "output_type": "execute_result"
    }
   ],
   "source": [
    "df5"
   ]
  },
  {
   "cell_type": "code",
   "execution_count": null,
   "id": "7cd852f6-3e1a-4db9-bc11-778814f92fd5",
   "metadata": {},
   "outputs": [],
   "source": []
  }
 ],
 "metadata": {
  "kernelspec": {
   "display_name": "Python 3 (ipykernel)",
   "language": "python",
   "name": "python3"
  },
  "language_info": {
   "codemirror_mode": {
    "name": "ipython",
    "version": 3
   },
   "file_extension": ".py",
   "mimetype": "text/x-python",
   "name": "python",
   "nbconvert_exporter": "python",
   "pygments_lexer": "ipython3",
   "version": "3.9.7"
  }
 },
 "nbformat": 4,
 "nbformat_minor": 5
}
